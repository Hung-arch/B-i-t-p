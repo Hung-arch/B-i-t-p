{
 "cells": [
  {
   "cell_type": "code",
   "execution_count": 2,
   "id": "b4752ac2",
   "metadata": {},
   "outputs": [],
   "source": [
    "import math"
   ]
  },
  {
   "cell_type": "code",
   "execution_count": 3,
   "id": "9030c77f",
   "metadata": {},
   "outputs": [
    {
     "name": "stdout",
     "output_type": "stream",
     "text": [
      "nhập a2\n",
      "nhập b8\n",
      "nhập c2\n",
      "delta= 48.0\n",
      "Phương trình có hai nghiệm phân biệt:\n",
      "x1 =  -0.2679491924311228\n",
      "x1 =  -3.732050807568877\n"
     ]
    }
   ],
   "source": [
    "a = float(input(\"nhập a\"))\n",
    "b = float(input(\"nhập b\"))\n",
    "c = float(input(\"nhập c\"))\n",
    "delta = b*b - 4*a*c\n",
    "\n",
    "print(\"delta=\",delta)\n",
    "if delta < 0:\n",
    "    print(\"Phương trình vô nghiệm\")\n",
    "elif delta == 0:\n",
    "    nghiem_kep  = -(b / (2 * a))\n",
    "    print(\"Phương trình có nghiệm kép\",nghiem_kep)\n",
    "else:\n",
    "    print(\"Phương trình có hai nghiệm phân biệt:\")\n",
    "    print(\"x1 = \", (-(b) + math.sqrt(delta))/(2*a) )\n",
    "    print(\"x1 = \", (-(b) - math.sqrt(delta))/(2*a) )\n"
   ]
  },
  {
   "cell_type": "code",
   "execution_count": null,
   "id": "1fd07f72",
   "metadata": {},
   "outputs": [],
   "source": []
  },
  {
   "cell_type": "code",
   "execution_count": null,
   "id": "b85981c7",
   "metadata": {},
   "outputs": [],
   "source": []
  }
 ],
 "metadata": {
  "kernelspec": {
   "display_name": "Python 3 (ipykernel)",
   "language": "python",
   "name": "python3"
  },
  "language_info": {
   "codemirror_mode": {
    "name": "ipython",
    "version": 3
   },
   "file_extension": ".py",
   "mimetype": "text/x-python",
   "name": "python",
   "nbconvert_exporter": "python",
   "pygments_lexer": "ipython3",
   "version": "3.9.13"
  }
 },
 "nbformat": 4,
 "nbformat_minor": 5
}
